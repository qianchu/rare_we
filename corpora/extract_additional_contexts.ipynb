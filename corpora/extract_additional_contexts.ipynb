{
 "cells": [
  {
   "cell_type": "code",
   "execution_count": 1,
   "metadata": {},
   "outputs": [],
   "source": [
    "import argparse\n",
    "import os\n",
    "from collections import defaultdict\n",
    "import pandas as pd\n",
    "import sys"
   ]
  },
  {
   "cell_type": "code",
   "execution_count": 2,
   "metadata": {},
   "outputs": [
    {
     "name": "stderr",
     "output_type": "stream",
     "text": [
      "usage: Extract additional contexts [-h] [--sf SOURCEF] [--cf COMPF]\n",
      "                                   [--rwf RAREWF]\n",
      "Extract additional contexts: error: unrecognized arguments: -f /home/ql261/.local/share/jupyter/runtime/kernel-e91ea1ad-0b96-4f3d-bda0-c3ce2f92eef0.json\n"
     ]
    },
    {
     "ename": "SystemExit",
     "evalue": "2",
     "output_type": "error",
     "traceback": [
      "An exception has occurred, use %tb to see the full traceback.\n",
      "\u001b[0;31mSystemExit\u001b[0m\u001b[0;31m:\u001b[0m 2\n"
     ]
    },
    {
     "name": "stderr",
     "output_type": "stream",
     "text": [
      "/usr/local/lib/python2.7/dist-packages/IPython/core/interactiveshell.py:2886: UserWarning: To exit: use 'exit', 'quit', or Ctrl-D.\n",
      "  warn(\"To exit: use 'exit', 'quit', or Ctrl-D.\", stacklevel=1)\n"
     ]
    }
   ],
   "source": [
    "if __name__=='__main__':\n",
    "    parser=argparse.ArgumentParser('Extract additional contexts')\n",
    "    parser.add_argument('--sf',type=str,help='source filename from which contexts are extracted', dest='sourcef')\n",
    "    parser.add_argument('--cf',type=str,help='file directory in which sentences are stored in directories according to sentence length, to compare with  extracted contexts', dest='compf')\n",
    "    parser.add_argument('--rwf',type=str,help='a file that contains rarewords each on a line', dest='rarewf')\n",
    "    args = parser.parse_args()\n",
    "    \n",
    "    sourcef=args.sourcef\n",
    "    compf=args.compf\n",
    "    rarewf=args.rarewf\n",
    "    \n",
    "    outf=os.path.join(os.path.dirname(sourcef),'contexts')\n",
    "    if os.path.isdir(outf):\n",
    "        print ('directory exists: {0}'.format(os.path.join(os.path.dirname(sourcef),'contexts')))\n",
    "        sys.exit(1)\n",
    "    os.makedirs(os.path.join(os.path.dirname(sourcef),'contexts'))\n",
    "    data=pd.read_csv(os.path.join(rarewf),delimiter='\\t',header=None,comment='#')\n",
    "    rarewords=list(data[0])\n",
    "    rareword2contexts=defaultdict(list)\n",
    "\n",
    "    index=0\n",
    "    with open (sourcef) as source_f:\n",
    "        for line in source_f:\n",
    "            line=line.strip().lower()\n",
    "            if index>=1000 and index%1000==0:\n",
    "                print (index)\n",
    "            index+=1\n",
    "            if rarewords==[]:\n",
    "                print ('all done')\n",
    "                break\n",
    "            for rareword in rarewords:\n",
    "                if rareword in line:\n",
    "                    if os.path.isfile(os.path.join(compf,'sents.'+str(len(line.split())))):\n",
    "                        with open(os.path.join(compf,'sents.'+str(len(line.split())))) as f:\n",
    "                            if any(line == x.strip() for x in f) :\n",
    "                                continue\n",
    "                    if line not in rareword2contexts[rareword]:\n",
    "                        rareword2contexts[rareword].append(line+'\\n')\n",
    "                        if len(rareword2contexts[rareword])>=255:\n",
    "                            print ('{0} done'.format(rareword))\n",
    "                            rarewords.remove(rareword)\n",
    "                            print (outf,rareword)\n",
    "                            with open(os.path.join(outf,rareword+'.txt'),'w') as out_f:\n",
    "                                out_f.writelines(rareword2contexts[rareword])\n",
    "                        break\n",
    "                                    \n",
    "\n"
   ]
  }
 ],
 "metadata": {
  "kernelspec": {
   "display_name": "Python 2",
   "language": "python",
   "name": "python2"
  },
  "language_info": {
   "codemirror_mode": {
    "name": "ipython",
    "version": 2
   },
   "file_extension": ".py",
   "mimetype": "text/x-python",
   "name": "python",
   "nbconvert_exporter": "python",
   "pygments_lexer": "ipython2",
   "version": "2.7.12"
  }
 },
 "nbformat": 4,
 "nbformat_minor": 2
}
